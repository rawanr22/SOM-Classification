{
  "cells": [
    {
      "cell_type": "code",
      "execution_count": 1,
      "id": "f466221b",
      "metadata": {
        "colab": {
          "base_uri": "https://localhost:8080/"
        },
        "id": "f466221b",
        "outputId": "eb4b52c7-9960-4b1f-be48-9da411776317"
      },
      "outputs": [
        {
          "output_type": "stream",
          "name": "stdout",
          "text": [
            "Looking in indexes: https://pypi.org/simple, https://us-python.pkg.dev/colab-wheels/public/simple/\n",
            "Requirement already satisfied: minisom in /usr/local/lib/python3.8/dist-packages (2.3.0)\n"
          ]
        }
      ],
      "source": [
        "%pip install minisom"
      ]
    },
    {
      "cell_type": "code",
      "execution_count": 2,
      "id": "1281a14a",
      "metadata": {
        "id": "1281a14a"
      },
      "outputs": [],
      "source": [
        "# importing important modules\n",
        "\n",
        "from minisom import MiniSom\n",
        "\n",
        "import numpy as np\n",
        "import pandas as pd\n",
        "import matplotlib.pyplot as plt\n",
        "%matplotlib inline\n",
        "from sklearn.preprocessing import StandardScaler\n",
        "from sklearn.model_selection import train_test_split, learning_curve\n",
        "from sklearn.metrics import classification_report, accuracy_score, precision_recall_fscore_support, roc_auc_score, roc_curve, plot_confusion_matrix"
      ]
    },
    {
      "cell_type": "code",
      "execution_count": 3,
      "id": "2f9c55ff",
      "metadata": {
        "id": "2f9c55ff"
      },
      "outputs": [],
      "source": [
        "# importing the cleaned dataset\n",
        "df = pd.read_csv('newDataset.csv')"
      ]
    },
    {
      "cell_type": "code",
      "execution_count": 4,
      "id": "dc0889b4",
      "metadata": {
        "colab": {
          "base_uri": "https://localhost:8080/",
          "height": 317
        },
        "id": "dc0889b4",
        "outputId": "b0cb0734-8786-41bf-b7ce-1ffeaff2a94a"
      },
      "outputs": [
        {
          "output_type": "execute_result",
          "data": {
            "text/plain": [
              "   Unnamed: 0   loc  v(g)  ev(g)  iv(g)      n       v     l      d      i  \\\n",
              "0        5528   4.0   1.0    1.0    1.0    6.0   15.51  0.40   2.50   6.20   \n",
              "1        8694  13.0   3.0    1.0    1.0   29.0  123.19  0.08  11.92  10.34   \n",
              "2       10794  24.0   3.0    1.0    2.0   53.0  236.35  0.10  10.50  22.51   \n",
              "3        4954  65.0  16.0    1.0    6.0    0.0    0.00  0.00   0.00   0.00   \n",
              "4        6181  33.0  10.0    1.0    7.0  142.0  739.74  0.03  30.59  24.18   \n",
              "\n",
              "   ...  lOCode  lOComment  lOBlank  locCodeAndComment  uniq_Op  uniq_Opnd  \\\n",
              "0  ...       2          0        0                  0      5.0        1.0   \n",
              "1  ...       8          1        1                  0     13.0        6.0   \n",
              "2  ...      19          0        3                  0     11.0       11.0   \n",
              "3  ...       0          0        0                  0      0.0        0.0   \n",
              "4  ...      26          0        5                  0     20.0       17.0   \n",
              "\n",
              "   total_Op  total_Opnd  branchCount  defects  \n",
              "0       5.0         1.0          1.0      0.0  \n",
              "1      18.0        11.0          5.0      0.0  \n",
              "2      32.0        21.0          5.0      0.0  \n",
              "3       0.0         0.0         31.0      0.0  \n",
              "4      90.0        52.0         19.0      0.0  \n",
              "\n",
              "[5 rows x 23 columns]"
            ],
            "text/html": [
              "\n",
              "  <div id=\"df-a4e85276-11ac-48e2-bf13-f37615d24e63\">\n",
              "    <div class=\"colab-df-container\">\n",
              "      <div>\n",
              "<style scoped>\n",
              "    .dataframe tbody tr th:only-of-type {\n",
              "        vertical-align: middle;\n",
              "    }\n",
              "\n",
              "    .dataframe tbody tr th {\n",
              "        vertical-align: top;\n",
              "    }\n",
              "\n",
              "    .dataframe thead th {\n",
              "        text-align: right;\n",
              "    }\n",
              "</style>\n",
              "<table border=\"1\" class=\"dataframe\">\n",
              "  <thead>\n",
              "    <tr style=\"text-align: right;\">\n",
              "      <th></th>\n",
              "      <th>Unnamed: 0</th>\n",
              "      <th>loc</th>\n",
              "      <th>v(g)</th>\n",
              "      <th>ev(g)</th>\n",
              "      <th>iv(g)</th>\n",
              "      <th>n</th>\n",
              "      <th>v</th>\n",
              "      <th>l</th>\n",
              "      <th>d</th>\n",
              "      <th>i</th>\n",
              "      <th>...</th>\n",
              "      <th>lOCode</th>\n",
              "      <th>lOComment</th>\n",
              "      <th>lOBlank</th>\n",
              "      <th>locCodeAndComment</th>\n",
              "      <th>uniq_Op</th>\n",
              "      <th>uniq_Opnd</th>\n",
              "      <th>total_Op</th>\n",
              "      <th>total_Opnd</th>\n",
              "      <th>branchCount</th>\n",
              "      <th>defects</th>\n",
              "    </tr>\n",
              "  </thead>\n",
              "  <tbody>\n",
              "    <tr>\n",
              "      <th>0</th>\n",
              "      <td>5528</td>\n",
              "      <td>4.0</td>\n",
              "      <td>1.0</td>\n",
              "      <td>1.0</td>\n",
              "      <td>1.0</td>\n",
              "      <td>6.0</td>\n",
              "      <td>15.51</td>\n",
              "      <td>0.40</td>\n",
              "      <td>2.50</td>\n",
              "      <td>6.20</td>\n",
              "      <td>...</td>\n",
              "      <td>2</td>\n",
              "      <td>0</td>\n",
              "      <td>0</td>\n",
              "      <td>0</td>\n",
              "      <td>5.0</td>\n",
              "      <td>1.0</td>\n",
              "      <td>5.0</td>\n",
              "      <td>1.0</td>\n",
              "      <td>1.0</td>\n",
              "      <td>0.0</td>\n",
              "    </tr>\n",
              "    <tr>\n",
              "      <th>1</th>\n",
              "      <td>8694</td>\n",
              "      <td>13.0</td>\n",
              "      <td>3.0</td>\n",
              "      <td>1.0</td>\n",
              "      <td>1.0</td>\n",
              "      <td>29.0</td>\n",
              "      <td>123.19</td>\n",
              "      <td>0.08</td>\n",
              "      <td>11.92</td>\n",
              "      <td>10.34</td>\n",
              "      <td>...</td>\n",
              "      <td>8</td>\n",
              "      <td>1</td>\n",
              "      <td>1</td>\n",
              "      <td>0</td>\n",
              "      <td>13.0</td>\n",
              "      <td>6.0</td>\n",
              "      <td>18.0</td>\n",
              "      <td>11.0</td>\n",
              "      <td>5.0</td>\n",
              "      <td>0.0</td>\n",
              "    </tr>\n",
              "    <tr>\n",
              "      <th>2</th>\n",
              "      <td>10794</td>\n",
              "      <td>24.0</td>\n",
              "      <td>3.0</td>\n",
              "      <td>1.0</td>\n",
              "      <td>2.0</td>\n",
              "      <td>53.0</td>\n",
              "      <td>236.35</td>\n",
              "      <td>0.10</td>\n",
              "      <td>10.50</td>\n",
              "      <td>22.51</td>\n",
              "      <td>...</td>\n",
              "      <td>19</td>\n",
              "      <td>0</td>\n",
              "      <td>3</td>\n",
              "      <td>0</td>\n",
              "      <td>11.0</td>\n",
              "      <td>11.0</td>\n",
              "      <td>32.0</td>\n",
              "      <td>21.0</td>\n",
              "      <td>5.0</td>\n",
              "      <td>0.0</td>\n",
              "    </tr>\n",
              "    <tr>\n",
              "      <th>3</th>\n",
              "      <td>4954</td>\n",
              "      <td>65.0</td>\n",
              "      <td>16.0</td>\n",
              "      <td>1.0</td>\n",
              "      <td>6.0</td>\n",
              "      <td>0.0</td>\n",
              "      <td>0.00</td>\n",
              "      <td>0.00</td>\n",
              "      <td>0.00</td>\n",
              "      <td>0.00</td>\n",
              "      <td>...</td>\n",
              "      <td>0</td>\n",
              "      <td>0</td>\n",
              "      <td>0</td>\n",
              "      <td>0</td>\n",
              "      <td>0.0</td>\n",
              "      <td>0.0</td>\n",
              "      <td>0.0</td>\n",
              "      <td>0.0</td>\n",
              "      <td>31.0</td>\n",
              "      <td>0.0</td>\n",
              "    </tr>\n",
              "    <tr>\n",
              "      <th>4</th>\n",
              "      <td>6181</td>\n",
              "      <td>33.0</td>\n",
              "      <td>10.0</td>\n",
              "      <td>1.0</td>\n",
              "      <td>7.0</td>\n",
              "      <td>142.0</td>\n",
              "      <td>739.74</td>\n",
              "      <td>0.03</td>\n",
              "      <td>30.59</td>\n",
              "      <td>24.18</td>\n",
              "      <td>...</td>\n",
              "      <td>26</td>\n",
              "      <td>0</td>\n",
              "      <td>5</td>\n",
              "      <td>0</td>\n",
              "      <td>20.0</td>\n",
              "      <td>17.0</td>\n",
              "      <td>90.0</td>\n",
              "      <td>52.0</td>\n",
              "      <td>19.0</td>\n",
              "      <td>0.0</td>\n",
              "    </tr>\n",
              "  </tbody>\n",
              "</table>\n",
              "<p>5 rows × 23 columns</p>\n",
              "</div>\n",
              "      <button class=\"colab-df-convert\" onclick=\"convertToInteractive('df-a4e85276-11ac-48e2-bf13-f37615d24e63')\"\n",
              "              title=\"Convert this dataframe to an interactive table.\"\n",
              "              style=\"display:none;\">\n",
              "        \n",
              "  <svg xmlns=\"http://www.w3.org/2000/svg\" height=\"24px\"viewBox=\"0 0 24 24\"\n",
              "       width=\"24px\">\n",
              "    <path d=\"M0 0h24v24H0V0z\" fill=\"none\"/>\n",
              "    <path d=\"M18.56 5.44l.94 2.06.94-2.06 2.06-.94-2.06-.94-.94-2.06-.94 2.06-2.06.94zm-11 1L8.5 8.5l.94-2.06 2.06-.94-2.06-.94L8.5 2.5l-.94 2.06-2.06.94zm10 10l.94 2.06.94-2.06 2.06-.94-2.06-.94-.94-2.06-.94 2.06-2.06.94z\"/><path d=\"M17.41 7.96l-1.37-1.37c-.4-.4-.92-.59-1.43-.59-.52 0-1.04.2-1.43.59L10.3 9.45l-7.72 7.72c-.78.78-.78 2.05 0 2.83L4 21.41c.39.39.9.59 1.41.59.51 0 1.02-.2 1.41-.59l7.78-7.78 2.81-2.81c.8-.78.8-2.07 0-2.86zM5.41 20L4 18.59l7.72-7.72 1.47 1.35L5.41 20z\"/>\n",
              "  </svg>\n",
              "      </button>\n",
              "      \n",
              "  <style>\n",
              "    .colab-df-container {\n",
              "      display:flex;\n",
              "      flex-wrap:wrap;\n",
              "      gap: 12px;\n",
              "    }\n",
              "\n",
              "    .colab-df-convert {\n",
              "      background-color: #E8F0FE;\n",
              "      border: none;\n",
              "      border-radius: 50%;\n",
              "      cursor: pointer;\n",
              "      display: none;\n",
              "      fill: #1967D2;\n",
              "      height: 32px;\n",
              "      padding: 0 0 0 0;\n",
              "      width: 32px;\n",
              "    }\n",
              "\n",
              "    .colab-df-convert:hover {\n",
              "      background-color: #E2EBFA;\n",
              "      box-shadow: 0px 1px 2px rgba(60, 64, 67, 0.3), 0px 1px 3px 1px rgba(60, 64, 67, 0.15);\n",
              "      fill: #174EA6;\n",
              "    }\n",
              "\n",
              "    [theme=dark] .colab-df-convert {\n",
              "      background-color: #3B4455;\n",
              "      fill: #D2E3FC;\n",
              "    }\n",
              "\n",
              "    [theme=dark] .colab-df-convert:hover {\n",
              "      background-color: #434B5C;\n",
              "      box-shadow: 0px 1px 3px 1px rgba(0, 0, 0, 0.15);\n",
              "      filter: drop-shadow(0px 1px 2px rgba(0, 0, 0, 0.3));\n",
              "      fill: #FFFFFF;\n",
              "    }\n",
              "  </style>\n",
              "\n",
              "      <script>\n",
              "        const buttonEl =\n",
              "          document.querySelector('#df-a4e85276-11ac-48e2-bf13-f37615d24e63 button.colab-df-convert');\n",
              "        buttonEl.style.display =\n",
              "          google.colab.kernel.accessAllowed ? 'block' : 'none';\n",
              "\n",
              "        async function convertToInteractive(key) {\n",
              "          const element = document.querySelector('#df-a4e85276-11ac-48e2-bf13-f37615d24e63');\n",
              "          const dataTable =\n",
              "            await google.colab.kernel.invokeFunction('convertToInteractive',\n",
              "                                                     [key], {});\n",
              "          if (!dataTable) return;\n",
              "\n",
              "          const docLinkHtml = 'Like what you see? Visit the ' +\n",
              "            '<a target=\"_blank\" href=https://colab.research.google.com/notebooks/data_table.ipynb>data table notebook</a>'\n",
              "            + ' to learn more about interactive tables.';\n",
              "          element.innerHTML = '';\n",
              "          dataTable['output_type'] = 'display_data';\n",
              "          await google.colab.output.renderOutput(dataTable, element);\n",
              "          const docLink = document.createElement('div');\n",
              "          docLink.innerHTML = docLinkHtml;\n",
              "          element.appendChild(docLink);\n",
              "        }\n",
              "      </script>\n",
              "    </div>\n",
              "  </div>\n",
              "  "
            ]
          },
          "metadata": {},
          "execution_count": 4
        }
      ],
      "source": [
        "# the index has become a column as a reult of the upsampling done in the dataset notebook\n",
        "df.head()"
      ]
    },
    {
      "cell_type": "code",
      "execution_count": 5,
      "id": "2718aab3",
      "metadata": {
        "id": "2718aab3"
      },
      "outputs": [],
      "source": [
        "# dropping it\n",
        "df = df.drop('Unnamed: 0', axis=1)"
      ]
    },
    {
      "cell_type": "code",
      "execution_count": 6,
      "id": "b08e569a",
      "metadata": {
        "colab": {
          "base_uri": "https://localhost:8080/",
          "height": 300
        },
        "id": "b08e569a",
        "outputId": "a653d0dd-14b8-4697-a38a-17b76917ec19"
      },
      "outputs": [
        {
          "output_type": "execute_result",
          "data": {
            "text/plain": [
              "    loc  v(g)  ev(g)  iv(g)      n       v     l      d      i         e  ...  \\\n",
              "0   4.0   1.0    1.0    1.0    6.0   15.51  0.40   2.50   6.20     38.77  ...   \n",
              "1  13.0   3.0    1.0    1.0   29.0  123.19  0.08  11.92  10.34   1468.01  ...   \n",
              "2  24.0   3.0    1.0    2.0   53.0  236.35  0.10  10.50  22.51   2481.67  ...   \n",
              "3  65.0  16.0    1.0    6.0    0.0    0.00  0.00   0.00   0.00      0.00  ...   \n",
              "4  33.0  10.0    1.0    7.0  142.0  739.74  0.03  30.59  24.18  22627.41  ...   \n",
              "\n",
              "   lOCode  lOComment  lOBlank  locCodeAndComment  uniq_Op  uniq_Opnd  \\\n",
              "0       2          0        0                  0      5.0        1.0   \n",
              "1       8          1        1                  0     13.0        6.0   \n",
              "2      19          0        3                  0     11.0       11.0   \n",
              "3       0          0        0                  0      0.0        0.0   \n",
              "4      26          0        5                  0     20.0       17.0   \n",
              "\n",
              "   total_Op  total_Opnd  branchCount  defects  \n",
              "0       5.0         1.0          1.0      0.0  \n",
              "1      18.0        11.0          5.0      0.0  \n",
              "2      32.0        21.0          5.0      0.0  \n",
              "3       0.0         0.0         31.0      0.0  \n",
              "4      90.0        52.0         19.0      0.0  \n",
              "\n",
              "[5 rows x 22 columns]"
            ],
            "text/html": [
              "\n",
              "  <div id=\"df-e99ab161-df12-40dc-af17-7a4ea9a9d586\">\n",
              "    <div class=\"colab-df-container\">\n",
              "      <div>\n",
              "<style scoped>\n",
              "    .dataframe tbody tr th:only-of-type {\n",
              "        vertical-align: middle;\n",
              "    }\n",
              "\n",
              "    .dataframe tbody tr th {\n",
              "        vertical-align: top;\n",
              "    }\n",
              "\n",
              "    .dataframe thead th {\n",
              "        text-align: right;\n",
              "    }\n",
              "</style>\n",
              "<table border=\"1\" class=\"dataframe\">\n",
              "  <thead>\n",
              "    <tr style=\"text-align: right;\">\n",
              "      <th></th>\n",
              "      <th>loc</th>\n",
              "      <th>v(g)</th>\n",
              "      <th>ev(g)</th>\n",
              "      <th>iv(g)</th>\n",
              "      <th>n</th>\n",
              "      <th>v</th>\n",
              "      <th>l</th>\n",
              "      <th>d</th>\n",
              "      <th>i</th>\n",
              "      <th>e</th>\n",
              "      <th>...</th>\n",
              "      <th>lOCode</th>\n",
              "      <th>lOComment</th>\n",
              "      <th>lOBlank</th>\n",
              "      <th>locCodeAndComment</th>\n",
              "      <th>uniq_Op</th>\n",
              "      <th>uniq_Opnd</th>\n",
              "      <th>total_Op</th>\n",
              "      <th>total_Opnd</th>\n",
              "      <th>branchCount</th>\n",
              "      <th>defects</th>\n",
              "    </tr>\n",
              "  </thead>\n",
              "  <tbody>\n",
              "    <tr>\n",
              "      <th>0</th>\n",
              "      <td>4.0</td>\n",
              "      <td>1.0</td>\n",
              "      <td>1.0</td>\n",
              "      <td>1.0</td>\n",
              "      <td>6.0</td>\n",
              "      <td>15.51</td>\n",
              "      <td>0.40</td>\n",
              "      <td>2.50</td>\n",
              "      <td>6.20</td>\n",
              "      <td>38.77</td>\n",
              "      <td>...</td>\n",
              "      <td>2</td>\n",
              "      <td>0</td>\n",
              "      <td>0</td>\n",
              "      <td>0</td>\n",
              "      <td>5.0</td>\n",
              "      <td>1.0</td>\n",
              "      <td>5.0</td>\n",
              "      <td>1.0</td>\n",
              "      <td>1.0</td>\n",
              "      <td>0.0</td>\n",
              "    </tr>\n",
              "    <tr>\n",
              "      <th>1</th>\n",
              "      <td>13.0</td>\n",
              "      <td>3.0</td>\n",
              "      <td>1.0</td>\n",
              "      <td>1.0</td>\n",
              "      <td>29.0</td>\n",
              "      <td>123.19</td>\n",
              "      <td>0.08</td>\n",
              "      <td>11.92</td>\n",
              "      <td>10.34</td>\n",
              "      <td>1468.01</td>\n",
              "      <td>...</td>\n",
              "      <td>8</td>\n",
              "      <td>1</td>\n",
              "      <td>1</td>\n",
              "      <td>0</td>\n",
              "      <td>13.0</td>\n",
              "      <td>6.0</td>\n",
              "      <td>18.0</td>\n",
              "      <td>11.0</td>\n",
              "      <td>5.0</td>\n",
              "      <td>0.0</td>\n",
              "    </tr>\n",
              "    <tr>\n",
              "      <th>2</th>\n",
              "      <td>24.0</td>\n",
              "      <td>3.0</td>\n",
              "      <td>1.0</td>\n",
              "      <td>2.0</td>\n",
              "      <td>53.0</td>\n",
              "      <td>236.35</td>\n",
              "      <td>0.10</td>\n",
              "      <td>10.50</td>\n",
              "      <td>22.51</td>\n",
              "      <td>2481.67</td>\n",
              "      <td>...</td>\n",
              "      <td>19</td>\n",
              "      <td>0</td>\n",
              "      <td>3</td>\n",
              "      <td>0</td>\n",
              "      <td>11.0</td>\n",
              "      <td>11.0</td>\n",
              "      <td>32.0</td>\n",
              "      <td>21.0</td>\n",
              "      <td>5.0</td>\n",
              "      <td>0.0</td>\n",
              "    </tr>\n",
              "    <tr>\n",
              "      <th>3</th>\n",
              "      <td>65.0</td>\n",
              "      <td>16.0</td>\n",
              "      <td>1.0</td>\n",
              "      <td>6.0</td>\n",
              "      <td>0.0</td>\n",
              "      <td>0.00</td>\n",
              "      <td>0.00</td>\n",
              "      <td>0.00</td>\n",
              "      <td>0.00</td>\n",
              "      <td>0.00</td>\n",
              "      <td>...</td>\n",
              "      <td>0</td>\n",
              "      <td>0</td>\n",
              "      <td>0</td>\n",
              "      <td>0</td>\n",
              "      <td>0.0</td>\n",
              "      <td>0.0</td>\n",
              "      <td>0.0</td>\n",
              "      <td>0.0</td>\n",
              "      <td>31.0</td>\n",
              "      <td>0.0</td>\n",
              "    </tr>\n",
              "    <tr>\n",
              "      <th>4</th>\n",
              "      <td>33.0</td>\n",
              "      <td>10.0</td>\n",
              "      <td>1.0</td>\n",
              "      <td>7.0</td>\n",
              "      <td>142.0</td>\n",
              "      <td>739.74</td>\n",
              "      <td>0.03</td>\n",
              "      <td>30.59</td>\n",
              "      <td>24.18</td>\n",
              "      <td>22627.41</td>\n",
              "      <td>...</td>\n",
              "      <td>26</td>\n",
              "      <td>0</td>\n",
              "      <td>5</td>\n",
              "      <td>0</td>\n",
              "      <td>20.0</td>\n",
              "      <td>17.0</td>\n",
              "      <td>90.0</td>\n",
              "      <td>52.0</td>\n",
              "      <td>19.0</td>\n",
              "      <td>0.0</td>\n",
              "    </tr>\n",
              "  </tbody>\n",
              "</table>\n",
              "<p>5 rows × 22 columns</p>\n",
              "</div>\n",
              "      <button class=\"colab-df-convert\" onclick=\"convertToInteractive('df-e99ab161-df12-40dc-af17-7a4ea9a9d586')\"\n",
              "              title=\"Convert this dataframe to an interactive table.\"\n",
              "              style=\"display:none;\">\n",
              "        \n",
              "  <svg xmlns=\"http://www.w3.org/2000/svg\" height=\"24px\"viewBox=\"0 0 24 24\"\n",
              "       width=\"24px\">\n",
              "    <path d=\"M0 0h24v24H0V0z\" fill=\"none\"/>\n",
              "    <path d=\"M18.56 5.44l.94 2.06.94-2.06 2.06-.94-2.06-.94-.94-2.06-.94 2.06-2.06.94zm-11 1L8.5 8.5l.94-2.06 2.06-.94-2.06-.94L8.5 2.5l-.94 2.06-2.06.94zm10 10l.94 2.06.94-2.06 2.06-.94-2.06-.94-.94-2.06-.94 2.06-2.06.94z\"/><path d=\"M17.41 7.96l-1.37-1.37c-.4-.4-.92-.59-1.43-.59-.52 0-1.04.2-1.43.59L10.3 9.45l-7.72 7.72c-.78.78-.78 2.05 0 2.83L4 21.41c.39.39.9.59 1.41.59.51 0 1.02-.2 1.41-.59l7.78-7.78 2.81-2.81c.8-.78.8-2.07 0-2.86zM5.41 20L4 18.59l7.72-7.72 1.47 1.35L5.41 20z\"/>\n",
              "  </svg>\n",
              "      </button>\n",
              "      \n",
              "  <style>\n",
              "    .colab-df-container {\n",
              "      display:flex;\n",
              "      flex-wrap:wrap;\n",
              "      gap: 12px;\n",
              "    }\n",
              "\n",
              "    .colab-df-convert {\n",
              "      background-color: #E8F0FE;\n",
              "      border: none;\n",
              "      border-radius: 50%;\n",
              "      cursor: pointer;\n",
              "      display: none;\n",
              "      fill: #1967D2;\n",
              "      height: 32px;\n",
              "      padding: 0 0 0 0;\n",
              "      width: 32px;\n",
              "    }\n",
              "\n",
              "    .colab-df-convert:hover {\n",
              "      background-color: #E2EBFA;\n",
              "      box-shadow: 0px 1px 2px rgba(60, 64, 67, 0.3), 0px 1px 3px 1px rgba(60, 64, 67, 0.15);\n",
              "      fill: #174EA6;\n",
              "    }\n",
              "\n",
              "    [theme=dark] .colab-df-convert {\n",
              "      background-color: #3B4455;\n",
              "      fill: #D2E3FC;\n",
              "    }\n",
              "\n",
              "    [theme=dark] .colab-df-convert:hover {\n",
              "      background-color: #434B5C;\n",
              "      box-shadow: 0px 1px 3px 1px rgba(0, 0, 0, 0.15);\n",
              "      filter: drop-shadow(0px 1px 2px rgba(0, 0, 0, 0.3));\n",
              "      fill: #FFFFFF;\n",
              "    }\n",
              "  </style>\n",
              "\n",
              "      <script>\n",
              "        const buttonEl =\n",
              "          document.querySelector('#df-e99ab161-df12-40dc-af17-7a4ea9a9d586 button.colab-df-convert');\n",
              "        buttonEl.style.display =\n",
              "          google.colab.kernel.accessAllowed ? 'block' : 'none';\n",
              "\n",
              "        async function convertToInteractive(key) {\n",
              "          const element = document.querySelector('#df-e99ab161-df12-40dc-af17-7a4ea9a9d586');\n",
              "          const dataTable =\n",
              "            await google.colab.kernel.invokeFunction('convertToInteractive',\n",
              "                                                     [key], {});\n",
              "          if (!dataTable) return;\n",
              "\n",
              "          const docLinkHtml = 'Like what you see? Visit the ' +\n",
              "            '<a target=\"_blank\" href=https://colab.research.google.com/notebooks/data_table.ipynb>data table notebook</a>'\n",
              "            + ' to learn more about interactive tables.';\n",
              "          element.innerHTML = '';\n",
              "          dataTable['output_type'] = 'display_data';\n",
              "          await google.colab.output.renderOutput(dataTable, element);\n",
              "          const docLink = document.createElement('div');\n",
              "          docLink.innerHTML = docLinkHtml;\n",
              "          element.appendChild(docLink);\n",
              "        }\n",
              "      </script>\n",
              "    </div>\n",
              "  </div>\n",
              "  "
            ]
          },
          "metadata": {},
          "execution_count": 6
        }
      ],
      "source": [
        "# the final dataset\n",
        "df.head()"
      ]
    },
    {
      "cell_type": "code",
      "execution_count": 7,
      "id": "49a0abf7",
      "metadata": {
        "id": "49a0abf7"
      },
      "outputs": [],
      "source": [
        "# splitting the data into features and target\n",
        "x = df.iloc[:,:-1]\n",
        "y=df['defects']"
      ]
    },
    {
      "cell_type": "code",
      "execution_count": 8,
      "id": "b2a572c8",
      "metadata": {
        "colab": {
          "base_uri": "https://localhost:8080/"
        },
        "id": "b2a572c8",
        "outputId": "65c861bc-3816-4745-b8ca-a665463ff334"
      },
      "outputs": [
        {
          "output_type": "stream",
          "name": "stdout",
          "text": [
            "Training set has 10530 samples.\n",
            "Testing set has 3510 samples.\n"
          ]
        }
      ],
      "source": [
        "# checking the number of samples in each set\n",
        "X_train, X_test, y_train, y_test = train_test_split(x, y)\n",
        "print(\"Training set has {} samples.\".format(X_train.shape[0]))\n",
        "print(\"Testing set has {} samples.\".format(X_test.shape[0]))"
      ]
    },
    {
      "cell_type": "code",
      "execution_count": 9,
      "id": "d2184369",
      "metadata": {
        "id": "d2184369"
      },
      "outputs": [],
      "source": [
        "# splitting the data into training and testing\n",
        "X_train, X_test, y_train, y_test = train_test_split(x, y)\n",
        "\n",
        "#normalizing the data\n",
        "\n",
        "sc = StandardScaler()\n",
        "X_train = sc.fit_transform(X_train)\n",
        "X_test = sc.transform(X_test)\n",
        "\n",
        "#y_train = sc.transform(X_test)\n",
        "#y_test = sc.transform(X_test)"
      ]
    },
    {
      "cell_type": "code",
      "execution_count": 10,
      "id": "0b6c3f63",
      "metadata": {
        "colab": {
          "base_uri": "https://localhost:8080/",
          "height": 104
        },
        "id": "0b6c3f63",
        "outputId": "1679c532-bff6-4d37-9b34-badb6cc4355f"
      },
      "outputs": [
        {
          "output_type": "execute_result",
          "data": {
            "text/plain": [
              "\" som = MiniSom(100, 100, X_train.shape[1], sigma=3., learning_rate=.7, neighborhood_function='gaussian', random_seed=10)\\n\\nmax_iter = 1000\\nq_error = []\\nt_error = []\\n\\nfor i in range(max_iter):\\n    rand_i = np.random.randint(len(X_train))\\n    som.update(X_train[rand_i], som.winner(X_train[rand_i]), i, max_iter)\\n    q_error.append(som.quantization_error(X_train))\\n    t_error.append(som.topographic_error(X_train))\\n\\nplt.plot(np.arange(max_iter), q_error, label='quantization error')\\nplt.plot(np.arange(max_iter), t_error, label='topographic error')\\nplt.ylabel('error')\\nplt.xlabel('iteration index')\\nplt.legend()\\nplt.show() \""
            ],
            "application/vnd.google.colaboratory.intrinsic+json": {
              "type": "string"
            }
          },
          "metadata": {},
          "execution_count": 10
        }
      ],
      "source": [
        "# creating a base model with 100x100 map and triangle neighborhood function and testing its quantizationa and topographic errors\n",
        "''' som = MiniSom(100, 100, X_train.shape[1], sigma=3., learning_rate=.7, neighborhood_function='gaussian', random_seed=10)\n",
        "\n",
        "max_iter = 1000\n",
        "q_error = []\n",
        "t_error = []\n",
        "\n",
        "for i in range(max_iter):\n",
        "    rand_i = np.random.randint(len(X_train))\n",
        "    som.update(X_train[rand_i], som.winner(X_train[rand_i]), i, max_iter)\n",
        "    q_error.append(som.quantization_error(X_train))\n",
        "    t_error.append(som.topographic_error(X_train))\n",
        "\n",
        "plt.plot(np.arange(max_iter), q_error, label='quantization error')\n",
        "plt.plot(np.arange(max_iter), t_error, label='topographic error')\n",
        "plt.ylabel('error')\n",
        "plt.xlabel('iteration index')\n",
        "plt.legend()\n",
        "plt.show() '''"
      ]
    },
    {
      "cell_type": "code",
      "execution_count": 11,
      "id": "8c923f83",
      "metadata": {
        "id": "8c923f83"
      },
      "outputs": [],
      "source": [
        "# function to evaluate the map classifier using different metrics\n",
        "def evaluate(som, y_test, y_pred):\n",
        "\n",
        "    acc = accuracy_score(y_test, y_pred)\n",
        "    perf = precision_recall_fscore_support(y_test, y_pred, average = 'macro')\n",
        "    print(\"Accuracy: \", acc)\n",
        "    print(f\"Precision : {perf[0]:.4f} Recall : {perf[1]:.4f} Fscore : {perf[2]:.4f}\")\n",
        "\n",
        "    auc = roc_auc_score(y_pred, y_test)\n",
        "    fpr, tpr, thresholds = roc_curve(y_test, y_pred)\n",
        "    plt.plot(fpr, tpr, 'g-',label ='LR AUC:%.3f'%auc)\n",
        "    plt.legend(loc=4)\n",
        "    plt.show()"
      ]
    },
    {
      "cell_type": "code",
      "execution_count": 12,
      "id": "493c422d",
      "metadata": {
        "id": "493c422d"
      },
      "outputs": [],
      "source": [
        "# since this in supervised classification not unsupervised, this function chooses the class of \n",
        "# the BMU to be the final class of each instance\n",
        "def classify(som, data):\n",
        "    \"\"\"Classifies each sample in data in one of the classes definited\n",
        "    using the method labels_map.\n",
        "    Returns a list of the same length of data where the i-th element\n",
        "    is the class assigned to data[i].\n",
        "    \"\"\"\n",
        "    winmap = som.labels_map(X_train, y_train)\n",
        "    default_class = np.sum(list(winmap.values())).most_common()[0][0]\n",
        "    result = []\n",
        "    for d in data:\n",
        "        win_position = som.winner(d)\n",
        "        if win_position in winmap:\n",
        "            result.append(winmap[win_position].most_common()[0][0])\n",
        "        else:\n",
        "            result.append(default_class)\n",
        "    return result\n"
      ]
    },
    {
      "cell_type": "code",
      "execution_count": 13,
      "id": "05b8bc40",
      "metadata": {
        "colab": {
          "base_uri": "https://localhost:8080/",
          "height": 334
        },
        "id": "05b8bc40",
        "outputId": "fec6e12f-8a14-4a4b-d5cf-f08270fc23be"
      },
      "outputs": [
        {
          "output_type": "stream",
          "name": "stdout",
          "text": [
            " [ 10000 / 10000 ] 100% - 0:00:00 left \n",
            " quantization error: 0.27300579698582494\n",
            "Accuracy:  0.7700854700854701\n",
            "Precision : 0.7732 Recall : 0.7704 Fscore : 0.7696\n"
          ]
        },
        {
          "output_type": "display_data",
          "data": {
            "text/plain": [
              "<Figure size 432x288 with 1 Axes>"
            ],
            "image/png": "[encoded data removed]"
          },
          "metadata": {
            "needs_background": "light"
          }
        }
      ],
      "source": [
        "somClassifier = MiniSom(100,100, 21, sigma=3, learning_rate=0.7, neighborhood_function='triangle', random_seed=10)\n",
        "somClassifier.pca_weights_init(X_train)\n",
        "somClassifier.train_random(X_train, 10000, verbose=True)\n",
        "\n",
        "y_pred = classify(somClassifier, X_test)\n",
        "evaluate(somClassifier, y_test, y_pred)\n"
      ]
    },
    {
      "cell_type": "code",
      "execution_count": 14,
      "id": "4f9c67c6",
      "metadata": {
        "id": "4f9c67c6",
        "colab": {
          "base_uri": "https://localhost:8080/"
        },
        "outputId": "03b57392-b50f-45ee-c121-295323619cf1"
      },
      "outputs": [
        {
          "output_type": "stream",
          "name": "stdout",
          "text": [
            "Quantization Error for the classifier with traingle neiborhood is  0.27300579698582494\n",
            "Topographic Error for the classifier with traingle neiborhood is  0.2617283950617284\n"
          ]
        }
      ],
      "source": [
        "print('Quantization Error for the classifier with traingle neiborhood is ', somClassifier.quantization_error(X_train))\n",
        "print('Topographic Error for the classifier with traingle neiborhood is ', somClassifier.topographic_error(X_train))"
      ]
    },
    {
      "cell_type": "code",
      "execution_count": 16,
      "id": "bd71b13f",
      "metadata": {
        "id": "bd71b13f",
        "colab": {
          "base_uri": "https://localhost:8080/",
          "height": 334
        },
        "outputId": "1b8a0828-74b0-47a1-e31d-a1e57778234b"
      },
      "outputs": [
        {
          "output_type": "stream",
          "name": "stdout",
          "text": [
            " [ 10000 / 10000 ] 100% - 0:00:00 left \n",
            " quantization error: 0.46609752167209745\n",
            "Accuracy:  0.7643874643874644\n",
            "Precision : 0.7749 Recall : 0.7649 Fscore : 0.7623\n"
          ]
        },
        {
          "output_type": "display_data",
          "data": {
            "text/plain": [
              "<Figure size 432x288 with 1 Axes>"
            ],
            "image/png": "[encoded data removed]"
          },
          "metadata": {
            "needs_background": "light"
          }
        }
      ],
      "source": [
        "somClassifier2 = MiniSom(100, 100, 21, sigma=3, learning_rate=0.7, neighborhood_function='gaussian', random_seed=10)\n",
        "somClassifier2.pca_weights_init(X_train)\n",
        "somClassifier2.train_random(X_train, 10000, verbose=True)\n",
        "\n",
        "y_pred = classify(somClassifier2, X_test)\n",
        "evaluate(somClassifier2, y_test, y_pred)"
      ]
    },
    {
      "cell_type": "code",
      "execution_count": 17,
      "id": "3c1e5a2d",
      "metadata": {
        "id": "3c1e5a2d",
        "colab": {
          "base_uri": "https://localhost:8080/"
        },
        "outputId": "5383a124-d238-4903-e929-0f5b1efc2e7e"
      },
      "outputs": [
        {
          "output_type": "stream",
          "name": "stdout",
          "text": [
            "Quantization Error for the classifier with gaussian neiborhood is:  0.46609752167209745\n",
            "Topographic Error or the classifier with gaussian neiborhood is:  0.050047483380816715\n"
          ]
        }
      ],
      "source": [
        "print('Quantization Error for the classifier with gaussian neiborhood is: ', somClassifier2.quantization_error(X_train))\n",
        "print('Topographic Error or the classifier with gaussian neiborhood is: ', somClassifier2.topographic_error(X_train))"
      ]
    }
  ],
  "metadata": {
    "kernelspec": {
      "display_name": "Python 3 (ipykernel)",
      "language": "python",
      "name": "python3"
    },
    "language_info": {
      "codemirror_mode": {
        "name": "ipython",
        "version": 3
      },
      "file_extension": ".py",
      "mimetype": "text/x-python",
      "name": "python",
      "nbconvert_exporter": "python",
      "pygments_lexer": "ipython3",
      "version": "3.9.7"
    },
    "colab": {
      "provenance": []
    }
  },
  "nbformat": 4,
  "nbformat_minor": 5
}